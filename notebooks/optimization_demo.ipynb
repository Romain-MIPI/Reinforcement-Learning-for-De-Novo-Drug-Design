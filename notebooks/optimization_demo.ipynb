{
  "nbformat": 4,
  "nbformat_minor": 0,
  "metadata": {
    "colab": {
      "provenance": [],
      "machine_shape": "hm",
      "gpuType": "T4"
    },
    "kernelspec": {
      "name": "python3",
      "display_name": "Python 3"
    },
    "language_info": {
      "name": "python"
    },
    "accelerator": "GPU"
  },
  "cells": [
    {
      "cell_type": "code",
      "execution_count": 1,
      "metadata": {
        "id": "z-4tsrIAVLwC",
        "outputId": "00bbcfd4-130b-45fc-d494-169e7501a3cd",
        "colab": {
          "base_uri": "https://localhost:8080/"
        }
      },
      "outputs": [
        {
          "output_type": "stream",
          "name": "stdout",
          "text": [
            "Collecting rdkit-pypi\n",
            "  Downloading rdkit_pypi-2022.9.5-cp311-cp311-manylinux_2_17_x86_64.manylinux2014_x86_64.whl.metadata (3.9 kB)\n",
            "Requirement already satisfied: numpy in /usr/local/lib/python3.11/dist-packages (from rdkit-pypi) (2.0.2)\n",
            "Requirement already satisfied: Pillow in /usr/local/lib/python3.11/dist-packages (from rdkit-pypi) (11.2.1)\n",
            "Downloading rdkit_pypi-2022.9.5-cp311-cp311-manylinux_2_17_x86_64.manylinux2014_x86_64.whl (29.4 MB)\n",
            "\u001b[2K   \u001b[90m━━━━━━━━━━━━━━━━━━━━━━━━━━━━━━━━━━━━━━━━\u001b[0m \u001b[32m29.4/29.4 MB\u001b[0m \u001b[31m66.1 MB/s\u001b[0m eta \u001b[36m0:00:00\u001b[0m\n",
            "\u001b[?25hInstalling collected packages: rdkit-pypi\n",
            "Successfully installed rdkit-pypi-2022.9.5\n"
          ]
        }
      ],
      "source": [
        "import sys\n",
        "import os\n",
        "\n",
        "!pip install rdkit-pypi"
      ]
    },
    {
      "cell_type": "code",
      "source": [
        "!git clone https://github.com/Romain-MIPI/Reinforcement-Learning-for-De-Novo-Drug-Design.git"
      ],
      "metadata": {
        "id": "nWgT1WPqVtAP"
      },
      "execution_count": null,
      "outputs": []
    },
    {
      "cell_type": "code",
      "source": [
        "%cd Reinforcement-Learning-for-De-Novo-Drug-Design"
      ],
      "metadata": {
        "id": "WANfmJpzVugN"
      },
      "execution_count": null,
      "outputs": []
    },
    {
      "cell_type": "code",
      "source": [
        "from rdkit import Chem\n",
        "from rdkit.Chem import Draw\n",
        "from rdkit.Chem.Draw import IPythonConsole"
      ],
      "metadata": {
        "id": "xIWV2-0yVxy4"
      },
      "execution_count": null,
      "outputs": []
    },
    {
      "cell_type": "code",
      "source": [
        "from sklearn.metrics import balanced_accuracy_score, f1_score, recall_score, precision_score\n",
        "import pandas as pd\n",
        "import copy\n",
        "import pickle\n",
        "import numpy as np\n",
        "import matplotlib.pyplot as plt"
      ],
      "metadata": {
        "id": "JzmB746uVyJR"
      },
      "execution_count": null,
      "outputs": []
    },
    {
      "cell_type": "code",
      "source": [
        "import torch\n",
        "import torch.nn as nn\n",
        "from torch.optim import Adam\n",
        "from torch.optim.lr_scheduler import ExponentialLR\n",
        "import torch.nn.functional as F"
      ],
      "metadata": {
        "id": "KHXyA5tUVzpy"
      },
      "execution_count": null,
      "outputs": []
    },
    {
      "cell_type": "code",
      "source": [
        "import numpy as np\n",
        "from tqdm import tqdm, trange\n",
        "import pickle\n",
        "from rdkit import Chem, DataStructs\n",
        "from models.rnn_generative import RNNGenerative\n",
        "from models.generator_data import GeneratorData\n",
        "from models.utils import canonical_smiles\n",
        "import matplotlib.pyplot as plt\n",
        "%matplotlib inline\n",
        "\n",
        "import seaborn as sns"
      ],
      "metadata": {
        "id": "w-15vf_FspLK"
      },
      "execution_count": null,
      "outputs": []
    },
    {
      "cell_type": "code",
      "source": [
        "from rdkit.Chem import QED\n",
        "\n",
        "gen_data_path = './data/clean_020724_all_with_update.csv'\n",
        "data = pd.read_csv(gen_data_path)\n",
        "smiles = data['SMILES'].values"
      ],
      "metadata": {
        "id": "gjB9ciuOV1mT"
      },
      "execution_count": null,
      "outputs": []
    },
    {
      "cell_type": "code",
      "source": [
        "from models.utils import get_tokens\n",
        "my_tokens, _, _ = get_tokens(smiles)\n",
        "l_tokens = list(my_tokens) + ['<', '>']"
      ],
      "metadata": {
        "id": "vtYxWf4zWcD3"
      },
      "execution_count": null,
      "outputs": []
    },
    {
      "cell_type": "code",
      "source": [
        "gen_data_path = './data/clean_020724_all_with_update.csv'\n",
        "gen_data = GeneratorData(training_data_path=gen_data_path, delimiter=',',\n",
        "                         cols_to_read=[12], keep_header=False, tokens=l_tokens)"
      ],
      "metadata": {
        "id": "W7ZGjxwIs8oI"
      },
      "execution_count": null,
      "outputs": []
    },
    {
      "cell_type": "code",
      "source": [
        "def plot_bar(prediction, n_to_generate):\n",
        "    value, count = np.unique(prediction, return_counts=True)\n",
        "    print(\"Percentage predict class 0 (inactive) :\", count[np.where(value==0)]/len(prediction)\n",
        "    print(\"Percentage predict class 1 (weakly actif) :\", count[np.where(value==1)]/len(prediction))\n",
        "    print(\"Percentage predict class 2 (strongly actif) :\", count[np.where(value==2)]/len(prediction))\n",
        "    print(\"Proportion of valid SMILES:\", len(prediction)/n_to_generate)\n",
        "    ax = plt.bar(value, count)\n",
        "    ax.set(xlabel='Predicted class',\n",
        "           y_label='Number of molecules',\n",
        "           title='Distribution of predicted class for generated molecules')\n",
        "    plt.show()"
      ],
      "metadata": {
        "id": "RNfLTK6zs_GM"
      },
      "execution_count": null,
      "outputs": []
    },
    {
      "cell_type": "code",
      "source": [
        "def estimate_and_update(generator, predictor, n_to_generate):\n",
        "    generated = []\n",
        "    pbar = tqdm(range(n_to_generate))\n",
        "    for i in pbar:\n",
        "        pbar.set_description(\"Generating molecules...\")\n",
        "        generated.append(generator.evaluate(gen_data, predict_len=120)[1:-1])\n",
        "\n",
        "    sanitized = canonical_smiles(generated, sanitize=False, throw_warning=False)[:-1]\n",
        "    unique_smiles = list(np.unique(sanitized))[1:]\n",
        "    smiles, prediction, nan_smiles = predictor.predict(unique_smiles, use_tqdm=True)\n",
        "\n",
        "    plot_bar(prediction, n_to_generate)\n",
        "\n",
        "    return smiles, prediction"
      ],
      "metadata": {
        "id": "3hAsq6vItJIq"
      },
      "execution_count": null,
      "outputs": []
    },
    {
      "cell_type": "code",
      "source": [
        "hidden_size = 500\n",
        "stack_width = 500\n",
        "stack_depth = 200\n",
        "layer_type = 'GRU'\n",
        "lr = 0.001\n",
        "optimizer_instance = torch.optim.Adadelta\n",
        "\n",
        "my_generator = RNNGenerative(input_size=gen_data.n_characters, hidden_size=hidden_size,\n",
        "                             output_size=gen_data.n_characters, layer_type=layer_type,\n",
        "                             n_layers=1, is_bidirectional=False, has_stack=True,\n",
        "                             stack_width=stack_width, stack_depth=stack_depth,\n",
        "                             use_cuda=use_cuda,\n",
        "                             optimizer_instance=optimizer_instance, lr=lr)"
      ],
      "metadata": {
        "id": "WZascqZgtKuE"
      },
      "execution_count": null,
      "outputs": []
    },
    {
      "cell_type": "code",
      "source": [
        "model_path = './data/checkpoints/generator/checkpoint_stack_rnn'"
      ],
      "metadata": {
        "id": "W9w7GVJFtWWu"
      },
      "execution_count": null,
      "outputs": []
    },
    {
      "cell_type": "code",
      "source": [
        "# training generative model\n",
        "\n",
        "losses = my_generator.fit(gen_data, 50000)\n",
        "plt.plot(losses)\n",
        "my_generator.evaluate(gen_data)\n",
        "my_generator.save_model(model_path)"
      ],
      "metadata": {
        "id": "mGWp6xGetbsb"
      },
      "execution_count": null,
      "outputs": []
    },
    {
      "cell_type": "code",
      "source": [
        "my_generator.load_model(model_path)"
      ],
      "metadata": {
        "id": "0Z0Z3runtcgQ"
      },
      "execution_count": null,
      "outputs": []
    },
    {
      "cell_type": "code",
      "source": [
        "from models.rnn_predictor import RNNPredictor\n",
        "\n",
        "path_to_params = './ReLeaSE/checkpoints/classification/model_parameters.pkl'\n",
        "path_to_checkpoint = './ReLeaSE/checkpoints/classification/fold_'\n",
        "\n",
        "my_predictor = RNNPredictor(path_to_params, path_to_checkpoint, tokens)"
      ],
      "metadata": {
        "id": "Hnfce70AtmDy"
      },
      "execution_count": null,
      "outputs": []
    },
    {
      "cell_type": "code",
      "source": [
        "smiles_unbiased, prediction_unbiased = estimate_and_update(my_generator,\n",
        "                                                           my_predictor,\n",
        "                                                           n_to_generate=10000)"
      ],
      "metadata": {
        "id": "8OKdUWRqt05j"
      },
      "execution_count": null,
      "outputs": []
    },
    {
      "cell_type": "code",
      "source": [
        "my_generator_2 = RNNGenerator(input_size=gen_data.n_characters,\n",
        "                                hidden_size=hidden_size,\n",
        "                                output_size=gen_data.n_characters,\n",
        "                                layer_type=layer_type,\n",
        "                                n_layers=1, is_bidirectional=False, has_stack=True,\n",
        "                                stack_width=stack_width, stack_depth=stack_depth,\n",
        "                                use_cuda=use_cuda,\n",
        "                                optimizer_instance=optimizer_instance, lr=lr)\n",
        "\n",
        "my_generator_2.load_model(model_path)"
      ],
      "metadata": {
        "id": "Kfq6xYX8t8ME"
      },
      "execution_count": null,
      "outputs": []
    },
    {
      "cell_type": "code",
      "source": [
        "def simple_moving_average(previous_values, new_value, ma_window_size=10):\n",
        "    value_ma = np.sum(previous_values[-(ma_window_size-1):]) + new_value\n",
        "    value_ma = value_ma/(len(previous_values[-(ma_window_size-1):]) + 1)\n",
        "    return value_ma"
      ],
      "metadata": {
        "id": "-YxuQpzsuJJ8"
      },
      "execution_count": null,
      "outputs": []
    },
    {
      "cell_type": "code",
      "source": [
        "def get_reward_activity(smile, predictor, invalid_reward=0.0):\n",
        "    _, prediction, invalid_smiles = predictor.predict([smile])\n",
        "    if len(nan_smiles) == 1:\n",
        "        return invalid_reward\n",
        "    if (prediction[0] == 2):\n",
        "        return 11.0\n",
        "    elif (prediction[0] == 1):\n",
        "        return 6.0\n",
        "    else:\n",
        "        return 1.0"
      ],
      "metadata": {
        "id": "kNWssSmuuJl-"
      },
      "execution_count": null,
      "outputs": []
    },
    {
      "cell_type": "code",
      "source": [
        "# Setting up some parameters for the experiment\n",
        "n_to_generate = 200\n",
        "n_policy_replay = 10\n",
        "n_policy = 15\n",
        "n_iterations = 60\n",
        "\n",
        "RL_activity = Reinforcement(my_generator_2, my_predictor, get_reward_activity)\n",
        "\n",
        "rewards = []\n",
        "rl_losses = []\n",
        "\n",
        "for i in range(n_iterations):\n",
        "    for j in trange(n_policy, desc='Policy gradient...'):\n",
        "        cur_reward, cur_loss = RL_activity.policy_gradient(gen_data)\n",
        "        rewards.append(simple_moving_average(rewards, cur_reward))\n",
        "        rl_losses.append(simple_moving_average(rl_losses, cur_loss))\n",
        "\n",
        "    plt.plot(rewards)\n",
        "    plt.xlabel('Training iteration')\n",
        "    plt.ylabel('Average reward')\n",
        "    plt.show()\n",
        "    plt.plot(rl_losses)\n",
        "    plt.xlabel('Training iteration')\n",
        "    plt.ylabel('Loss')\n",
        "    plt.show()\n",
        "\n",
        "    smiles_cur, prediction_cur = estimate_and_update(RL_activity.generator,\n",
        "                                                     my_predictor,\n",
        "                                                     n_to_generate)"
      ],
      "metadata": {
        "id": "THGzfWe4uMne"
      },
      "execution_count": null,
      "outputs": []
    },
    {
      "cell_type": "code",
      "source": [
        "smiles_biased, prediction_biased = estimate_and_update(RL_activity.generator,\n",
        "                                                       my_predictor,\n",
        "                                                       n_to_generate=10000)"
      ],
      "metadata": {
        "id": "n5TlAaNuu5cs"
      },
      "execution_count": null,
      "outputs": []
    },
    {
      "cell_type": "code",
      "source": [
        "class_val = [0, 1, 2]\n",
        "\n",
        "value1, count1 = np.unique(prediction_biased, return_counts=True)\n",
        "value2, count2 = np.unique(prediction_biased, return_counts=True)\n",
        "\n",
        "if len(value1) != len(class_val):\n",
        "    tmp = []\n",
        "    for c in class_val:\n",
        "        if c not in value1:\n",
        "            tmp.append(count1[np.where(value1==c)])\n",
        "        else:\n",
        "            tmp.append(0)\n",
        "    count1 = tmp\n",
        "if len(value2) != len(class_val):\n",
        "    tmp = []\n",
        "    for c in class_val:\n",
        "        if c not in value2:\n",
        "            tmp.append(count2[np.where(value2==c)])\n",
        "        else:\n",
        "            tmp.append(0)\n",
        "    count2 = tmp\n",
        "\n",
        "w, x = 0.4, np.arange(len(labels))\n",
        "\n",
        "fig, ax = plt.subplots()\n",
        "ax.bar(x - w/2, count1, width=w, label='unbiased')\n",
        "ax.bar(x + w/2, count2, width=w, label='biased')\n",
        "\n",
        "ax.set_xticks(x)\n",
        "ax.set_xticklabels(['class 0', 'class 1', 'class 2'])\n",
        "ax.set_ylabel('Number of molecules')\n",
        "ax.set_title('distribution of generated molecules')\n",
        "ax.legend()\n",
        "\n",
        "plt.show()"
      ],
      "metadata": {
        "id": "dlFlY07nzmnf"
      },
      "execution_count": null,
      "outputs": []
    }
  ]
}