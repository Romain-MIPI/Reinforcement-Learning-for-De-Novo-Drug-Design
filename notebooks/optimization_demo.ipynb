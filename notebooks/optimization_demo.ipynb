{
  "nbformat": 4,
  "nbformat_minor": 0,
  "metadata": {
    "colab": {
      "provenance": [],
      "machine_shape": "hm",
      "gpuType": "T4"
    },
    "kernelspec": {
      "name": "python3",
      "display_name": "Python 3"
    },
    "language_info": {
      "name": "python"
    },
    "accelerator": "GPU"
  },
  "cells": [
    {
      "cell_type": "code",
      "execution_count": null,
      "metadata": {
        "id": "z-4tsrIAVLwC"
      },
      "outputs": [],
      "source": [
        "import sys\n",
        "import os\n",
        "\n",
        "!pip install rdkit-pypi"
      ]
    },
    {
      "cell_type": "code",
      "source": [
        "!git clone https://github.com/Romain-MIPI/Reinforcement-Learning-for-De-Novo-Drug-Design.git"
      ],
      "metadata": {
        "id": "nWgT1WPqVtAP"
      },
      "execution_count": null,
      "outputs": []
    },
    {
      "cell_type": "code",
      "source": [
        "%cd Reinforcement-Learning-for-De-Novo-Drug-Design"
      ],
      "metadata": {
        "id": "WANfmJpzVugN"
      },
      "execution_count": null,
      "outputs": []
    },
    {
      "cell_type": "code",
      "source": [
        "from rdkit import Chem\n",
        "from rdkit.Chem import Draw\n",
        "from rdkit.Chem.Draw import IPythonConsole"
      ],
      "metadata": {
        "id": "xIWV2-0yVxy4"
      },
      "execution_count": null,
      "outputs": []
    },
    {
      "cell_type": "code",
      "source": [
        "from sklearn.metrics import balanced_accuracy_score, f1_score, recall_score, precision_score\n",
        "import pandas as pd\n",
        "import copy\n",
        "import pickle\n",
        "import numpy as np\n",
        "import matplotlib.pyplot as plt"
      ],
      "metadata": {
        "id": "JzmB746uVyJR"
      },
      "execution_count": null,
      "outputs": []
    },
    {
      "cell_type": "code",
      "source": [
        "import torch\n",
        "import torch.nn as nn\n",
        "from torch.optim import Adam\n",
        "from torch.optim.lr_scheduler import ExponentialLR\n",
        "import torch.nn.functional as F"
      ],
      "metadata": {
        "id": "KHXyA5tUVzpy"
      },
      "execution_count": null,
      "outputs": []
    },
    {
      "cell_type": "code",
      "source": [
        "from tqdm import tqdm, trange\n",
        "from rdkit import Chem, DataStructs\n",
        "from models.rnn_generator import RNNGenerator\n",
        "from models.generator_data import GeneratorData\n",
        "from models.utils import canonical_smiles\n",
        "%matplotlib inline\n",
        "\n",
        "import seaborn as sns"
      ],
      "metadata": {
        "id": "w-15vf_FspLK"
      },
      "execution_count": null,
      "outputs": []
    },
    {
      "cell_type": "code",
      "source": [
        "from rdkit.Chem import QED\n",
        "\n",
        "gen_data_path = './data/clean_020724_all_with_update.csv'\n",
        "data = pd.read_csv(gen_data_path)\n",
        "smiles = data['SMILES'].values"
      ],
      "metadata": {
        "id": "gjB9ciuOV1mT"
      },
      "execution_count": null,
      "outputs": []
    },
    {
      "cell_type": "code",
      "source": [
        "from models.utils import get_tokens\n",
        "my_tokens, _, _ = get_tokens(smiles)\n",
        "l_tokens = list(my_tokens) + ['<', '>']"
      ],
      "metadata": {
        "id": "vtYxWf4zWcD3"
      },
      "execution_count": null,
      "outputs": []
    },
    {
      "cell_type": "code",
      "source": [
        "gen_data = GeneratorData(training_data_path=gen_data_path, delimiter=',',\n",
        "                         cols_to_read=[12], keep_header=False, tokens=l_tokens)"
      ],
      "metadata": {
        "id": "W7ZGjxwIs8oI"
      },
      "execution_count": null,
      "outputs": []
    },
    {
      "cell_type": "code",
      "source": [
        "def plot_bar(prediction, n_to_generate):\n",
        "    value, count = np.unique(prediction, return_counts=True)\n",
        "    print(\"Percentage predict class 0 (inactive) :\", count[np.where(value==0)]/len(prediction))\n",
        "    print(\"Percentage predict class 1 (weakly actif) :\", count[np.where(value==1)]/len(prediction))\n",
        "    print(\"Percentage predict class 2 (strongly actif) :\", count[np.where(value==2)]/len(prediction))\n",
        "    print(\"Proportion of valid SMILES:\", len(prediction)/n_to_generate, f\"({len(prediction)}/{n_to_generate})\")\n",
        "    plt.bar(value, count)\n",
        "    plt.xlabel('Predicted class')\n",
        "    plt.ylabel('Number of molecules')\n",
        "    plt.xticks([0, 1, 2], ['class 0', 'class 1', 'class 2'])\n",
        "    plt.title('Distribution of predicted class for generated molecules')\n",
        "    plt.show()"
      ],
      "metadata": {
        "id": "RNfLTK6zs_GM"
      },
      "execution_count": null,
      "outputs": []
    },
    {
      "cell_type": "code",
      "source": [
        "def estimate_and_update(generator, predictor, n_to_generate):\n",
        "    generated = []\n",
        "    pbar = tqdm(range(n_to_generate))\n",
        "    for i in pbar:\n",
        "        pbar.set_description(\"Generating molecules...\")\n",
        "        generated.append(generator.evaluate(gen_data, predict_len=120)[1:-1])\n",
        "\n",
        "    sanitized = canonical_smiles(generated, sanitize=False, throw_warning=False)[:-1]\n",
        "    unique_smiles = list(np.unique(sanitized))[1:]\n",
        "    smiles, prediction, nan_smiles = predictor.predict(unique_smiles)\n",
        "\n",
        "    plot_bar(prediction, n_to_generate)\n",
        "\n",
        "    return smiles, prediction"
      ],
      "metadata": {
        "id": "3hAsq6vItJIq"
      },
      "execution_count": null,
      "outputs": []
    },
    {
      "cell_type": "code",
      "source": [
        "use_cuda = torch.cuda.is_available()\n",
        "use_cuda"
      ],
      "metadata": {
        "id": "Pbo_Sl6u40hj"
      },
      "execution_count": null,
      "outputs": []
    },
    {
      "cell_type": "code",
      "source": [
        "hidden_size = 500\n",
        "stack_width = 500\n",
        "stack_depth = 200\n",
        "layer_type = 'GRU'\n",
        "lr = 0.001\n",
        "optimizer_instance = torch.optim.Adadelta\n",
        "\n",
        "my_generator = RNNGenerator(input_size=gen_data.n_characters, hidden_size=hidden_size,\n",
        "                             output_size=gen_data.n_characters, layer_type=layer_type,\n",
        "                             n_layers=1, is_bidirectional=False, has_stack=True,\n",
        "                             stack_width=stack_width, stack_depth=stack_depth,\n",
        "                             use_cuda=use_cuda,\n",
        "                             optimizer_instance=optimizer_instance, lr=lr)"
      ],
      "metadata": {
        "id": "WZascqZgtKuE"
      },
      "execution_count": null,
      "outputs": []
    },
    {
      "cell_type": "code",
      "source": [
        "model_path = './data/checkpoints/generator/checkpoint_stack_rnn'"
      ],
      "metadata": {
        "id": "W9w7GVJFtWWu"
      },
      "execution_count": null,
      "outputs": []
    },
    {
      "cell_type": "code",
      "source": [
        "# training generative model\n",
        "# can be skipped if already trained\n",
        "\n",
        "losses = my_generator.fit(gen_data, 50000)\n",
        "plt.plot(losses)\n",
        "my_generator.evaluate(gen_data)\n",
        "my_generator.save_model(model_path)"
      ],
      "metadata": {
        "id": "mGWp6xGetbsb"
      },
      "execution_count": null,
      "outputs": []
    },
    {
      "cell_type": "code",
      "source": [
        "my_generator.load_model(model_path)"
      ],
      "metadata": {
        "id": "0Z0Z3runtcgQ"
      },
      "execution_count": null,
      "outputs": []
    },
    {
      "cell_type": "code",
      "source": [
        "from models.rnn_predictor import RNNPredictor\n",
        "\n",
        "path_to_params = './data/checkpoints/classification/model_parameters.pkl'\n",
        "path_to_checkpoint = './data/checkpoints/classification/fold_'\n",
        "\n",
        "my_predictor = RNNPredictor(path_to_params, path_to_checkpoint, l_tokens)"
      ],
      "metadata": {
        "id": "Hnfce70AtmDy"
      },
      "execution_count": null,
      "outputs": []
    },
    {
      "cell_type": "code",
      "source": [
        "smiles_unbiased, prediction_unbiased = estimate_and_update(my_generator,\n",
        "                                                           my_predictor,\n",
        "                                                           n_to_generate=10000)"
      ],
      "metadata": {
        "id": "8OKdUWRqt05j",
        "collapsed": true
      },
      "execution_count": null,
      "outputs": []
    },
    {
      "cell_type": "code",
      "source": [
        "my_generator_2 = RNNGenerator(input_size=gen_data.n_characters,\n",
        "                              hidden_size=hidden_size,\n",
        "                              output_size=gen_data.n_characters,\n",
        "                              layer_type=layer_type,\n",
        "                              n_layers=1, is_bidirectional=False, has_stack=True,\n",
        "                              stack_width=stack_width, stack_depth=stack_depth,\n",
        "                              use_cuda=use_cuda,\n",
        "                              optimizer_instance=optimizer_instance, lr=lr)\n",
        "\n",
        "my_generator_2.load_model(model_path)"
      ],
      "metadata": {
        "id": "Kfq6xYX8t8ME"
      },
      "execution_count": null,
      "outputs": []
    },
    {
      "cell_type": "code",
      "source": [
        "def simple_moving_average(previous_values, new_value, ma_window_size=10):\n",
        "    value_ma = np.sum(previous_values[-(ma_window_size-1):]) + new_value\n",
        "    value_ma = value_ma/(len(previous_values[-(ma_window_size-1):]) + 1)\n",
        "    return value_ma"
      ],
      "metadata": {
        "id": "-YxuQpzsuJJ8"
      },
      "execution_count": null,
      "outputs": []
    },
    {
      "cell_type": "code",
      "source": [
        "def get_reward_activity(smile, predictor, invalid_reward=0.0):\n",
        "    _, prediction, invalid_smiles = predictor.predict([smile])\n",
        "    if len(invalid_smiles) == 1:\n",
        "        return invalid_reward\n",
        "    if (prediction[0] == 2):\n",
        "        return 11.0\n",
        "    elif (prediction[0] == 1):\n",
        "        return 6.0\n",
        "    else:\n",
        "        return 1.0"
      ],
      "metadata": {
        "id": "kNWssSmuuJl-"
      },
      "execution_count": null,
      "outputs": []
    },
    {
      "cell_type": "code",
      "source": [
        "from models.reinforcement import Reinforcement\n",
        "\n",
        "# Setting up some parameters for the experiment\n",
        "n_to_generate = 200\n",
        "n_policy_replay = 10\n",
        "n_policy = 15\n",
        "n_iterations = 60\n",
        "\n",
        "RL_activity = Reinforcement(my_generator_2, my_predictor, get_reward_activity)\n",
        "\n",
        "rewards = []\n",
        "rl_losses = []\n",
        "\n",
        "for i in range(n_iterations):\n",
        "    for j in trange(n_policy, desc='Policy gradient...'):\n",
        "        cur_reward, cur_loss = RL_activity.policy_gradient(gen_data)\n",
        "        rewards.append(simple_moving_average(rewards, cur_reward))\n",
        "        rl_losses.append(simple_moving_average(rl_losses, cur_loss))\n",
        "\n",
        "    plt.plot(rewards)\n",
        "    plt.xlabel('Training iteration')\n",
        "    plt.ylabel('Average reward')\n",
        "    plt.show()\n",
        "    plt.plot(rl_losses)\n",
        "    plt.xlabel('Training iteration')\n",
        "    plt.ylabel('Loss')\n",
        "    plt.show()\n",
        "\n",
        "    smiles_cur, prediction_cur = estimate_and_update(RL_activity.generator,\n",
        "                                                     my_predictor,\n",
        "                                                     n_to_generate)"
      ],
      "metadata": {
        "id": "THGzfWe4uMne"
      },
      "execution_count": null,
      "outputs": []
    },
    {
      "cell_type": "code",
      "source": [
        "smiles_biased, prediction_biased = estimate_and_update(RL_activity.generator,\n",
        "                                                       my_predictor,\n",
        "                                                       n_to_generate=10000)"
      ],
      "metadata": {
        "id": "n5TlAaNuu5cs"
      },
      "execution_count": null,
      "outputs": []
    },
    {
      "cell_type": "code",
      "source": [
        "class_val = [0, 1, 2]\n",
        "\n",
        "value1, count1 = np.unique(prediction_unbiased, return_counts=True)\n",
        "value2, count2 = np.unique(prediction_biased, return_counts=True)\n",
        "\n",
        "if len(value1) != len(class_val):\n",
        "    tmp = []\n",
        "    for c in class_val:\n",
        "        if c not in value1:\n",
        "            tmp.append(count1[np.where(value1==c)])\n",
        "        else:\n",
        "            tmp.append(0)\n",
        "    count1 = tmp\n",
        "if len(value2) != len(class_val):\n",
        "    tmp = []\n",
        "    for c in class_val:\n",
        "        if c not in value2:\n",
        "            tmp.append(count2[np.where(value2==c)])\n",
        "        else:\n",
        "            tmp.append(0)\n",
        "    count2 = tmp\n",
        "\n",
        "w, x = 0.4, np.arange(len(class_val))\n",
        "\n",
        "fig, ax = plt.subplots()\n",
        "ax.bar(x - w/2, count1, width=w, label='unbiased')\n",
        "ax.bar(x + w/2, count2, width=w, label='biased')\n",
        "\n",
        "ax.set_xticks(x)\n",
        "ax.set_xticklabels(['class 0', 'class 1', 'class 2'])\n",
        "ax.set_ylabel('Number of molecules')\n",
        "ax.set_title('distribution of generated molecules')\n",
        "ax.legend()\n",
        "\n",
        "plt.show()\n",
        "\n",
        "class0_unbiased = count1[np.where(value1==0)]\n",
        "class1_unbiased = count1[np.where(value1==1)]\n",
        "class2_unbiased = count1[np.where(value1==2)]\n",
        "\n",
        "class0_biased = count2[np.where(value2==0)]\n",
        "class1_biased = count2[np.where(value2==1)]\n",
        "class2_biased = count2[np.where(value2==2)]\n",
        "\n",
        "print(\"Proportion of valid SMILES unbiased:\", len(smiles_unbiased)/10000)\n",
        "print(\"Proportion of valid SMILES biased:\", len(smiles_biased)/10000)"
      ],
      "metadata": {
        "colab": {
          "base_uri": "https://localhost:8080/",
          "height": 487
        },
        "id": "dlFlY07nzmnf",
        "outputId": "85ab7075-8301-4656-aff3-41b6ed099a27"
      },
      "execution_count": null,
      "outputs": [
        {
          "output_type": "display_data",
          "data": {
            "text/plain": [
              "<Figure size 640x480 with 1 Axes>"
            ],
            "image/png": "[encoded data removed]"
          },
          "metadata": {}
        },
        {
          "output_type": "stream",
          "name": "stdout",
          "text": [
            "Proportion of valid SMILES unbiased: 0.1047\n",
            "Proportion of valid SMILES biased: 0.1274\n"
          ]
        }
      ]
    },
    {
      "cell_type": "code",
      "source": [
        "gen_data_path = './data/clean_020724_all_with_update.csv'\n",
        "data = pd.read_csv(gen_data_path)\n",
        "smiles = data['SMILES'].values\n",
        "labels = data['Labels'].values\n",
        "\n",
        "smiles_class_2_unbiased = np.array(smiles_unbiased)[np.where(np.array(prediction_unbiased)==2)]\n",
        "smiles_class_2_biased = np.array(smiles_biased)[np.where(np.array(prediction_biased)==2)]\n",
        "\n",
        "unique_smiles_class_2_unbiased = []\n",
        "for smile in smiles_class_2_unbiased:\n",
        "    if smile not in smiles:\n",
        "        unique_smiles_class_2_unbiased.append(smile)\n",
        "\n",
        "unique_smiles_class_2_biased = []\n",
        "for smile in smiles_class_2_biased:\n",
        "    if smile not in smiles:\n",
        "        unique_smiles_class_2_biased.append(smile)\n",
        "\n",
        "print(np.array(unique_smiles_class_2_unbiased))\n",
        "print(np.array(unique_smiles_class_2_biased))\n",
        "\n",
        "print(\"proportion of active SMILES unbiased not in database:\", len(unique_smiles_class_2_unbiased)/len(smiles_class_2_unbiased))\n",
        "print(\"proportion of active SMILES biased not in database:\", len(unique_smiles_class_2_biased)/len(smiles_class_2_biased))"
      ],
      "metadata": {
        "id": "1tAFyKqTSm0G"
      },
      "execution_count": null,
      "outputs": []
    },
    {
      "cell_type": "code",
      "source": [
        "labels_class_2_unbiased = np.array(prediction_unbiased)[np.where(np.array(prediction_unbiased)==2)]\n",
        "labels_class_2_biased = np.array(prediction_biased)[np.where(np.array(prediction_biased)==2)]\n",
        "\n",
        "def save_smiles(path, smiles):\n",
        "    with open(path, 'w') as f:\n",
        "        for smile in smiles:\n",
        "            f.write(smile + '\\n')\n",
        "\n",
        "save_smiles('./data/smiles_class_2_unbiased.csv', unique_smiles_class_2_unbiased)\n",
        "save_smiles('./data/smiles_class_2_biased.csv', unique_smiles_class_2_biased)"
      ],
      "metadata": {
        "id": "edekDtPoJM15"
      },
      "execution_count": null,
      "outputs": []
    },
    {
      "cell_type": "code",
      "source": [
        "labels = data['Labels'].values\n",
        "\n",
        "_, predictions, _ = my_predictor.predict(smiles)\n",
        "\n",
        "count = 0\n",
        "miss_count = 0\n",
        "\n",
        "for i in range(len(smiles)):\n",
        "    if labels[i] != predictions[i]:\n",
        "        miss_count += 1\n",
        "        print(f\"{miss_count} | {smiles[i]} {labels[i]} {predictions[i]}\")\n",
        "    else:\n",
        "        count += 1\n",
        "\n",
        "print(f\"accuracy : {(count/len(smiles)*100):.2f}% ({count}/{len(smiles)})\")"
      ],
      "metadata": {
        "id": "QKDZSI4e7rAc"
      },
      "execution_count": null,
      "outputs": []
    },
    {
      "cell_type": "code",
      "source": [
        "from models.smiles_dataset import SmilesDataset\n",
        "from models.encoder import Encoder\n",
        "from models.mlp import MLP\n",
        "from models.smiles2label import Smiles2Label\n",
        "from models.utils import identity\n",
        "\n",
        "model_object = Smiles2Label\n",
        "\n",
        "n_hidden = 128\n",
        "batch_size = 128\n",
        "num_epochs = 26\n",
        "lr = 0.005\n",
        "\n",
        "model_params = {\n",
        "    'use_cuda': True,\n",
        "    'random_seed': 42,\n",
        "    'world_size': 1,\n",
        "    'data_layer': SmilesDataset,\n",
        "    'use_clip_grad': False,\n",
        "    'batch_size': batch_size,\n",
        "    'num_epochs': num_epochs,\n",
        "    'logdir': './data/checkpoints/classification/',\n",
        "    'print_every': 1,\n",
        "    'save_every': 5,\n",
        "    'train_data_layer': None,\n",
        "    'val_data_layer': None,\n",
        "    'eval_metrics': balanced_accuracy_score, # f1_score, recall_score, precision_score\n",
        "    'average' : \"macro\",\n",
        "    'criterion': nn.CrossEntropyLoss(),\n",
        "    'optimizer': Adam,\n",
        "    'optimizer_params': {\n",
        "        'lr': lr,\n",
        "    },\n",
        "    'lr_scheduler': ExponentialLR,\n",
        "    'lr_scheduler_params': {\n",
        "        'gamma': 0.98\n",
        "    },\n",
        "    'embedding': nn.Embedding,\n",
        "    'embedding_params': {\n",
        "        'num_embeddings': len(tokens),\n",
        "        'embedding_dim': n_hidden,\n",
        "        'padding_idx': tokens.index(' ')\n",
        "    },\n",
        "    'encoder': Encoder,\n",
        "    'encoder_params': {\n",
        "        'input_size': n_hidden,\n",
        "        'layer': \"LSTM\",\n",
        "        'encoder_dim': n_hidden,\n",
        "        'n_layers': 2,\n",
        "        'dropout': 0.8,\n",
        "        'is_bidirectional': False\n",
        "    },\n",
        "    'mlp': MLP,\n",
        "    'mlp_params': {\n",
        "        'input_size': n_hidden,\n",
        "        'n_layers': 2,\n",
        "        'hidden_size': [n_hidden, 3],\n",
        "        'activation': [F.relu, identity],\n",
        "        'dropout': 0.0\n",
        "    }\n",
        "}"
      ],
      "metadata": {
        "id": "Y4F_rH0AYtpj"
      },
      "execution_count": null,
      "outputs": []
    },
    {
      "cell_type": "code",
      "source": [
        "from models.smiles2label import evaluate\n",
        "from models.smiles_dataset import SmilesDataset\n",
        "from torch.utils.data import DataLoader\n",
        "\n",
        "metrics = {'bac': balanced_accuracy_score, 'f1': f1_score, 'recall': recall_score, 'precision': precision_score}\n",
        "rmse = []\n",
        "score = {'bac':[], 'f1':[], 'recall':[], 'precision':[]}\n",
        "tmp_data_dir = './data/tmp/'\n",
        "tokens, _, _ = get_tokens(smiles)\n",
        "tokens = ''.join(tokens)\n",
        "criterion = model_params['criterion']\n",
        "average = model_params['average']\n",
        "\n",
        "for k, v in metrics.items():\n",
        "    for i in range(5):\n",
        "        test_dataset = SmilesDataset(tmp_data_dir + str(i) + '_test.smi',\n",
        "                                    delimiter=',', cols_to_read=[0, 1], tokens=tokens,\n",
        "                                    flip=False)\n",
        "        test_dataset.target = np.array(test_dataset.target, dtype=np.int64).squeeze()\n",
        "        val_loader = DataLoader(test_dataset,\n",
        "                                batch_size=model_params['batch_size'],\n",
        "                                shuffle=False,\n",
        "                                num_workers=1,\n",
        "                                pin_memory=True)\n",
        "\n",
        "        my_predictor.model[i].eval_metrics = v\n",
        "        res = evaluate(my_predictor.model[i], val_loader, criterion, average)\n",
        "        if i == 0:\n",
        "            rmse.append(np.sqrt(res[0]))\n",
        "        score[k].append(res[1])"
      ],
      "metadata": {
        "id": "7AtO_s3FVixp"
      },
      "execution_count": null,
      "outputs": []
    },
    {
      "cell_type": "code",
      "source": [
        "print(\"Cross-validated RMSE: \",  np.mean(rmse))\n",
        "\n",
        "for k, v in metrics.items():\n",
        "    print(f\"Cross-validated {k}: \", np.mean(score[k]))"
      ],
      "metadata": {
        "colab": {
          "base_uri": "https://localhost:8080/"
        },
        "id": "vNJSjzY8ZTRX",
        "outputId": "d46d313a-063f-40b1-ef9b-64895cfadefb"
      },
      "execution_count": null,
      "outputs": [
        {
          "output_type": "stream",
          "name": "stdout",
          "text": [
            "Cross-validated RMSE:  0.9112761193654249\n",
            "Cross-validated bac:  0.5672459087186837\n",
            "Cross-validated f1:  0.5494918434872554\n",
            "Cross-validated recall:  0.5672459087186837\n",
            "Cross-validated precision:  0.5533997705667428\n"
          ]
        }
      ]
    },
    {
      "cell_type": "code",
      "source": [
        "RL_activity.generator.save_model('./data/checkpoints/generator/checkpoint_stack_rnn_biased')"
      ],
      "metadata": {
        "id": "5nzLVMs8mEIf"
      },
      "execution_count": null,
      "outputs": []
    }
  ]
}